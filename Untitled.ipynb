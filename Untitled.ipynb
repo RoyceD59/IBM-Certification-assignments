{
  "metadata": {
    "language_info": {
      "codemirror_mode": {
        "name": "python",
        "version": 3
      },
      "file_extension": ".py",
      "mimetype": "text/x-python",
      "name": "python",
      "nbconvert_exporter": "python",
      "pygments_lexer": "ipython3",
      "version": "3.8"
    },
    "kernelspec": {
      "name": "python",
      "display_name": "Python (Pyodide)",
      "language": "python"
    }
  },
  "nbformat_minor": 4,
  "nbformat": 4,
  "cells": [
    {
      "cell_type": "markdown",
      "source": "**My Submission**\n    ",
      "metadata": {}
    },
    {
      "cell_type": "markdown",
      "source": "**INTRODUCTION**",
      "metadata": {}
    },
    {
      "cell_type": "markdown",
      "source": "**DATA SCICENCE LANGUAGES**\n- PYTHON\n- R\n- JULIA\n- SCALA\n- JAVA\n- C/C++\n- MATLAB\n- SQL",
      "metadata": {}
    },
    {
      "cell_type": "markdown",
      "source": "**DATA SCIENCE LIBRARIES**\n- NUMPY\n- PANDAS\n- MATPOTLIB\n- SCIKIT-LEARN\n- PYTORCH\n- KERAS\n- SAS ENTERPRISE MINER\n- FLUX\n- TIDYR\n- FORECAST\n- CARET \n- GGPLOT2\n- DPLYR\n",
      "metadata": {}
    },
    {
      "cell_type": "markdown",
      "source": "|DATA SCIENCE TOOL|\n|-----------------|\n|PYTHON           |\n|R                |\n|JUPYTER          |\n|SQL              |\n|APACHE SPARK     |\n|SAS              |\n|EXCEL            |\n|TABLEAU          |",
      "metadata": {}
    },
    {
      "cell_type": "markdown",
      "source": "**ARITHMETIC EXPRESSONS**\n\n    2+2\n \n    3-1=\n    \n    2*3=\n    \n    4/2=",
      "metadata": {}
    },
    {
      "cell_type": "code",
      "source": "2+2\n\n2*3\n",
      "metadata": {
        "trusted": true
      },
      "execution_count": 1,
      "outputs": [
        {
          "execution_count": 1,
          "output_type": "execute_result",
          "data": {
            "text/plain": "6"
          },
          "metadata": {}
        }
      ]
    },
    {
      "cell_type": "code",
      "source": "minutes = 120\n\nhours = minutes / 60\n\nprint(\"Hours:\", hours)",
      "metadata": {
        "trusted": true
      },
      "execution_count": 4,
      "outputs": [
        {
          "name": "stdout",
          "text": "Hours: 2.0\n",
          "output_type": "stream"
        }
      ]
    },
    {
      "cell_type": "markdown",
      "source": "**JERRY ROYCE**",
      "metadata": {}
    },
    {
      "cell_type": "code",
      "source": "",
      "metadata": {},
      "execution_count": null,
      "outputs": []
    },
    {
      "cell_type": "code",
      "source": "",
      "metadata": {},
      "execution_count": null,
      "outputs": []
    }
  ]
}